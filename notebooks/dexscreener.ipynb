{
 "cells": [
  {
   "cell_type": "code",
   "execution_count": 1,
   "metadata": {},
   "outputs": [],
   "source": [
    "from pydex.dex import DexScreenerClient\n",
    "\n",
    "client = DexScreenerClient()"
   ]
  },
  {
   "cell_type": "code",
   "execution_count": 3,
   "metadata": {},
   "outputs": [],
   "source": [
    "crn = client.pairs(\"cronos\", \"0x3Ca50D07B1cfb4a4e61EE8d00c2eF1af6E42CEE8\")"
   ]
  },
  {
   "cell_type": "code",
   "execution_count": 5,
   "metadata": {},
   "outputs": [
    {
     "data": {
      "text/plain": [
       "'3.35'"
      ]
     },
     "execution_count": 5,
     "metadata": {},
     "output_type": "execute_result"
    }
   ],
   "source": [
    "crn.pair.priceUsd"
   ]
  }
 ],
 "metadata": {
  "interpreter": {
   "hash": "26cda52b2719cd065ab8a5c7c21be8bd0f79e7c89a5af13dcf5a50a06a9aa433"
  },
  "kernelspec": {
   "display_name": "Python 3.9.12 ('dex')",
   "language": "python",
   "name": "python3"
  },
  "language_info": {
   "codemirror_mode": {
    "name": "ipython",
    "version": 3
   },
   "file_extension": ".py",
   "mimetype": "text/x-python",
   "name": "python",
   "nbconvert_exporter": "python",
   "pygments_lexer": "ipython3",
   "version": "3.9.12"
  },
  "orig_nbformat": 4
 },
 "nbformat": 4,
 "nbformat_minor": 2
}
